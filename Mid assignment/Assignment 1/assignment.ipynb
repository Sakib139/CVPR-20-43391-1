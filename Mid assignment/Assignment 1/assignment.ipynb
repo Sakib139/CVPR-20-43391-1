{
 "cells": [
  {
   "cell_type": "code",
   "execution_count": 6,
   "metadata": {},
   "outputs": [
    {
     "name": "stdout",
     "output_type": "stream",
     "text": [
      "['airplane', 'automobile', 'bird', 'cat', 'deer', 'dog', 'frog', 'horse', 'ship', 'truck']\n"
     ]
    },
    {
     "name": "stderr",
     "output_type": "stream",
     "text": [
      "100%|██████████| 5000/5000 [00:01<00:00, 2599.76it/s]\n",
      "100%|██████████| 5000/5000 [00:01<00:00, 3123.34it/s]\n",
      "100%|██████████| 5000/5000 [00:02<00:00, 2355.50it/s]\n",
      "100%|██████████| 5000/5000 [00:02<00:00, 2372.87it/s]\n",
      "100%|██████████| 5000/5000 [00:01<00:00, 3611.28it/s]\n",
      "100%|██████████| 5000/5000 [00:01<00:00, 3566.98it/s]\n",
      "100%|██████████| 5000/5000 [00:01<00:00, 2991.88it/s]\n",
      "100%|██████████| 5000/5000 [00:02<00:00, 2339.03it/s]\n",
      "100%|██████████| 5000/5000 [00:01<00:00, 2877.35it/s]\n",
      "100%|██████████| 5000/5000 [00:01<00:00, 3577.05it/s]\n"
     ]
    },
    {
     "name": "stdout",
     "output_type": "stream",
     "text": [
      "50000\n"
     ]
    },
    {
     "name": "stderr",
     "output_type": "stream",
     "text": [
      "100%|██████████| 1000/1000 [03:48<00:00,  4.38it/s]\n"
     ]
    },
    {
     "name": "stdout",
     "output_type": "stream",
     "text": [
      "Fold 0, k = 1, L1 accuracy = 21.40%, L2 accuracy = 20.00%\n"
     ]
    },
    {
     "name": "stderr",
     "output_type": "stream",
     "text": [
      "100%|██████████| 1000/1000 [03:28<00:00,  4.79it/s]\n"
     ]
    },
    {
     "name": "stdout",
     "output_type": "stream",
     "text": [
      "Fold 0, k = 3, L1 accuracy = 17.80%, L2 accuracy = 16.80%\n"
     ]
    },
    {
     "name": "stderr",
     "output_type": "stream",
     "text": [
      "100%|██████████| 1000/1000 [03:46<00:00,  4.41it/s]\n"
     ]
    },
    {
     "name": "stdout",
     "output_type": "stream",
     "text": [
      "Fold 0, k = 5, L1 accuracy = 18.50%, L2 accuracy = 18.20%\n"
     ]
    },
    {
     "name": "stderr",
     "output_type": "stream",
     "text": [
      "100%|██████████| 1000/1000 [03:34<00:00,  4.67it/s]\n"
     ]
    },
    {
     "name": "stdout",
     "output_type": "stream",
     "text": [
      "Fold 0, k = 7, L1 accuracy = 18.80%, L2 accuracy = 18.10%\n"
     ]
    },
    {
     "name": "stderr",
     "output_type": "stream",
     "text": [
      "100%|██████████| 1000/1000 [03:34<00:00,  4.66it/s]\n"
     ]
    },
    {
     "name": "stdout",
     "output_type": "stream",
     "text": [
      "Fold 0, k = 9, L1 accuracy = 19.50%, L2 accuracy = 17.90%\n",
      "Midpoint L1 accuracy for Fold 0 = 19.60%, Midpoint L2 accuracy for Fold 0 = 18.40%\n"
     ]
    },
    {
     "name": "stderr",
     "output_type": "stream",
     "text": [
      "100%|██████████| 1000/1000 [03:40<00:00,  4.54it/s]\n"
     ]
    },
    {
     "name": "stdout",
     "output_type": "stream",
     "text": [
      "Fold 1, k = 1, L1 accuracy = 20.20%, L2 accuracy = 20.40%\n"
     ]
    },
    {
     "name": "stderr",
     "output_type": "stream",
     "text": [
      "100%|██████████| 1000/1000 [03:32<00:00,  4.70it/s]\n"
     ]
    },
    {
     "name": "stdout",
     "output_type": "stream",
     "text": [
      "Fold 1, k = 3, L1 accuracy = 20.90%, L2 accuracy = 20.60%\n"
     ]
    },
    {
     "name": "stderr",
     "output_type": "stream",
     "text": [
      "100%|██████████| 1000/1000 [03:34<00:00,  4.65it/s]\n"
     ]
    },
    {
     "name": "stdout",
     "output_type": "stream",
     "text": [
      "Fold 1, k = 5, L1 accuracy = 22.50%, L2 accuracy = 21.30%\n"
     ]
    },
    {
     "name": "stderr",
     "output_type": "stream",
     "text": [
      "100%|██████████| 1000/1000 [03:31<00:00,  4.73it/s]\n"
     ]
    },
    {
     "name": "stdout",
     "output_type": "stream",
     "text": [
      "Fold 1, k = 7, L1 accuracy = 21.40%, L2 accuracy = 20.80%\n"
     ]
    },
    {
     "name": "stderr",
     "output_type": "stream",
     "text": [
      "100%|██████████| 1000/1000 [03:30<00:00,  4.76it/s]\n"
     ]
    },
    {
     "name": "stdout",
     "output_type": "stream",
     "text": [
      "Fold 1, k = 9, L1 accuracy = 22.10%, L2 accuracy = 21.60%\n",
      "Midpoint L1 accuracy for Fold 1 = 21.35%, Midpoint L2 accuracy for Fold 1 = 21.00%\n"
     ]
    },
    {
     "name": "stderr",
     "output_type": "stream",
     "text": [
      "100%|██████████| 1000/1000 [03:27<00:00,  4.83it/s]\n"
     ]
    },
    {
     "name": "stdout",
     "output_type": "stream",
     "text": [
      "Fold 2, k = 1, L1 accuracy = 20.50%, L2 accuracy = 20.70%\n"
     ]
    },
    {
     "name": "stderr",
     "output_type": "stream",
     "text": [
      "100%|██████████| 1000/1000 [03:26<00:00,  4.83it/s]\n"
     ]
    },
    {
     "name": "stdout",
     "output_type": "stream",
     "text": [
      "Fold 2, k = 3, L1 accuracy = 19.40%, L2 accuracy = 19.20%\n"
     ]
    },
    {
     "name": "stderr",
     "output_type": "stream",
     "text": [
      "100%|██████████| 1000/1000 [03:35<00:00,  4.64it/s]\n"
     ]
    },
    {
     "name": "stdout",
     "output_type": "stream",
     "text": [
      "Fold 2, k = 5, L1 accuracy = 20.10%, L2 accuracy = 19.20%\n"
     ]
    },
    {
     "name": "stderr",
     "output_type": "stream",
     "text": [
      "100%|██████████| 1000/1000 [03:20<00:00,  4.99it/s]\n"
     ]
    },
    {
     "name": "stdout",
     "output_type": "stream",
     "text": [
      "Fold 2, k = 7, L1 accuracy = 21.30%, L2 accuracy = 19.90%\n"
     ]
    },
    {
     "name": "stderr",
     "output_type": "stream",
     "text": [
      "100%|██████████| 1000/1000 [03:03<00:00,  5.44it/s]\n"
     ]
    },
    {
     "name": "stdout",
     "output_type": "stream",
     "text": [
      "Fold 2, k = 9, L1 accuracy = 22.30%, L2 accuracy = 21.00%\n",
      "Midpoint L1 accuracy for Fold 2 = 20.85%, Midpoint L2 accuracy for Fold 2 = 20.10%\n"
     ]
    },
    {
     "name": "stderr",
     "output_type": "stream",
     "text": [
      "100%|██████████| 1000/1000 [03:22<00:00,  4.93it/s]\n"
     ]
    },
    {
     "name": "stdout",
     "output_type": "stream",
     "text": [
      "Fold 3, k = 1, L1 accuracy = 19.20%, L2 accuracy = 18.90%\n"
     ]
    },
    {
     "name": "stderr",
     "output_type": "stream",
     "text": [
      "100%|██████████| 1000/1000 [03:30<00:00,  4.76it/s]\n"
     ]
    },
    {
     "name": "stdout",
     "output_type": "stream",
     "text": [
      "Fold 3, k = 3, L1 accuracy = 18.40%, L2 accuracy = 17.60%\n"
     ]
    },
    {
     "name": "stderr",
     "output_type": "stream",
     "text": [
      "100%|██████████| 1000/1000 [03:25<00:00,  4.86it/s]\n"
     ]
    },
    {
     "name": "stdout",
     "output_type": "stream",
     "text": [
      "Fold 3, k = 5, L1 accuracy = 20.20%, L2 accuracy = 19.00%\n"
     ]
    },
    {
     "name": "stderr",
     "output_type": "stream",
     "text": [
      "100%|██████████| 1000/1000 [03:24<00:00,  4.89it/s]\n"
     ]
    },
    {
     "name": "stdout",
     "output_type": "stream",
     "text": [
      "Fold 3, k = 7, L1 accuracy = 20.00%, L2 accuracy = 18.80%\n"
     ]
    },
    {
     "name": "stderr",
     "output_type": "stream",
     "text": [
      "100%|██████████| 1000/1000 [03:27<00:00,  4.82it/s]\n"
     ]
    },
    {
     "name": "stdout",
     "output_type": "stream",
     "text": [
      "Fold 3, k = 9, L1 accuracy = 19.90%, L2 accuracy = 20.10%\n",
      "Midpoint L1 accuracy for Fold 3 = 19.30%, Midpoint L2 accuracy for Fold 3 = 18.85%\n"
     ]
    },
    {
     "name": "stderr",
     "output_type": "stream",
     "text": [
      "100%|██████████| 1000/1000 [03:26<00:00,  4.85it/s]\n"
     ]
    },
    {
     "name": "stdout",
     "output_type": "stream",
     "text": [
      "Fold 4, k = 1, L1 accuracy = 20.30%, L2 accuracy = 20.30%\n"
     ]
    },
    {
     "name": "stderr",
     "output_type": "stream",
     "text": [
      "100%|██████████| 1000/1000 [03:27<00:00,  4.82it/s]\n"
     ]
    },
    {
     "name": "stdout",
     "output_type": "stream",
     "text": [
      "Fold 4, k = 3, L1 accuracy = 19.60%, L2 accuracy = 17.60%\n"
     ]
    },
    {
     "name": "stderr",
     "output_type": "stream",
     "text": [
      "100%|██████████| 1000/1000 [03:31<00:00,  4.72it/s]\n"
     ]
    },
    {
     "name": "stdout",
     "output_type": "stream",
     "text": [
      "Fold 4, k = 5, L1 accuracy = 19.80%, L2 accuracy = 19.00%\n"
     ]
    },
    {
     "name": "stderr",
     "output_type": "stream",
     "text": [
      "100%|██████████| 1000/1000 [03:31<00:00,  4.73it/s]\n"
     ]
    },
    {
     "name": "stdout",
     "output_type": "stream",
     "text": [
      "Fold 4, k = 7, L1 accuracy = 19.70%, L2 accuracy = 18.80%\n"
     ]
    },
    {
     "name": "stderr",
     "output_type": "stream",
     "text": [
      "100%|██████████| 1000/1000 [03:26<00:00,  4.85it/s]\n"
     ]
    },
    {
     "name": "stdout",
     "output_type": "stream",
     "text": [
      "Fold 4, k = 9, L1 accuracy = 19.30%, L2 accuracy = 19.60%\n",
      "Midpoint L1 accuracy for Fold 4 = 19.80%, Midpoint L2 accuracy for Fold 4 = 18.95%\n"
     ]
    },
    {
     "data": {
      "image/png": "[encoded data removed]",
      "text/plain": [
       "<Figure size 640x480 with 1 Axes>"
      ]
     },
     "metadata": {},
     "output_type": "display_data"
    }
   ],
   "source": [
    "import os\n",
    "import random\n",
    "from tqdm import tqdm                                   #tqdm for showing progress bar number of iterations \n",
    "import numpy as np  \n",
    "import matplotlib.pyplot as plt\n",
    "import cv2\n",
    "\n",
    "Train_img_dir = \"F:/Softwares/Codes\\Image_Processing/CIFAR-10/CIFAR-10-images/train\"\n",
    "Categories = []\n",
    "\n",
    "for c in os.listdir(Train_img_dir):                     #listdir from os library is returning a list of every file in the given directory\n",
    "    Categories.append(c)                                #on each iteration, a file name is getting appended in empty list called Category\n",
    "print(Categories)\n",
    "\n",
    "Train_Data = []\n",
    "\n",
    "for c in Categories:\n",
    "    path = os.path.join(Train_img_dir,c)                #appending file name to the main directory in each iteration\n",
    "    class_num = Categories.index(c)                     #setting up an index number for each category\n",
    "\n",
    "    for img in tqdm(os.listdir(path)):                  #getiing image from the category folder in each iteration\n",
    "        img_array = cv2.imread(os.path.join(path,img))  #concading full path with image file name, reading the image and inserting it into an array              \n",
    "        Train_Data.append([img_array, class_num])\n",
    "\n",
    "print(len(Train_Data))\n",
    "\n",
    "random.shuffle(Train_Data)                              #suffling the image files for better training\n",
    "\n",
    "f0 = Train_Data[:1000]  \n",
    "f1 = Train_Data[1000:2000]\n",
    "f2 = Train_Data[2000:3000]\n",
    "f3 = Train_Data[3000:4000]\n",
    "f4 = Train_Data[4000:5000]\n",
    "\n",
    "k_values = [1, 3, 5, 7, 9]              #values for K\n",
    "\n",
    "midpoint_l1_accuracies = []\n",
    "midpoint_l2_accuracies = []\n",
    "\n",
    "for i in range(5):\n",
    "    if i==0:\n",
    "        train = f1 + f2 + f3 + f4\n",
    "        validation = f0\n",
    "    elif i==1:\n",
    "        train = f0 + f2 + f3 + f4\n",
    "        validation = f1\n",
    "    elif i==2:\n",
    "        train = f0 + f1 + f3 + f4\n",
    "        validation = f2\n",
    "    elif i==3:\n",
    "        train = f0 + f1 + f2 + f4\n",
    "        validation = f3\n",
    "    elif i==4:\n",
    "        train = f0 + f1 + f2 + f3\n",
    "        validation = f4\n",
    "\n",
    "    l1_accuracies = []\n",
    "    l2_accuracies = []\n",
    "\n",
    "    for k in k_values:\n",
    "\n",
    "        l1_correct = 0\n",
    "        l2_correct = 0\n",
    "        total = 0\n",
    "\n",
    "        for v in tqdm(validation):\n",
    "            v_img = v[0]\n",
    "            v_label = v[1]\n",
    "            l1_scores = []\n",
    "            l2_scores = []\n",
    "\n",
    "            for t in train:\n",
    "                t_img = t[0]\n",
    "                t_label = t[1]\n",
    "                \n",
    "                l1_dist = np.sum(np.abs(t_img - v_img))             #for L1 distance method\n",
    "                l1_scores.append((l1_dist, t_label))\n",
    "                \n",
    "                l2_dist = np.sqrt(np.sum((t_img - v_img) ** 2))     #for L2 distance method\n",
    "                l2_scores.append((l2_dist, t_label))\n",
    "\n",
    "            sorted_l1_scores = sorted(l1_scores, key=lambda x: x[0])[:k]\n",
    "            l1_neighbors = [s[1] for s in sorted_l1_scores]\n",
    "            l1_prediction = max(set(l1_neighbors), key=l1_neighbors.count)\n",
    "\n",
    "            sorted_l2_scores = sorted(l2_scores, key=lambda x: x[0])[:k]\n",
    "            l2_neighbors = [s[1] for s in sorted_l2_scores]\n",
    "            l2_prediction = max(set(l2_neighbors), key=l2_neighbors.count)\n",
    "\n",
    "            if l1_prediction == v_label:\n",
    "                l1_correct += 1\n",
    "            if l2_prediction == v_label:\n",
    "                l2_correct += 1\n",
    "\n",
    "            total += 1\n",
    "\n",
    "        l1_accuracy = l1_correct / total\n",
    "        l1_accuracies.append(l1_accuracy)\n",
    "\n",
    "        l2_accuracy = l2_correct / total\n",
    "        l2_accuracies.append(l2_accuracy)\n",
    "\n",
    "        print(\"Fold {}, k = {}, L1 accuracy = {:.2f}%, L2 accuracy = {:.2f}%\".format(i, k, l1_accuracy * 100, l2_accuracy * 100))\n",
    "\n",
    "    min_l1_accuracy = min(l1_accuracies)\n",
    "    max_l1_accuracy = max(l1_accuracies)\n",
    "    midpoint_l1_accuracy = (min_l1_accuracy + max_l1_accuracy) / 2\n",
    "    midpoint_l1_accuracies.append(midpoint_l1_accuracy)\n",
    "\n",
    "    min_l2_accuracy = min(l2_accuracies)\n",
    "    max_l2_accuracy = max(l2_accuracies)\n",
    "    midpoint_l2_accuracy = (min_l2_accuracy + max_l2_accuracy) / 2\n",
    "    midpoint_l2_accuracies.append(midpoint_l2_accuracy)\n",
    "\n",
    "    print(\"Midpoint L1 accuracy for Fold {} = {:.2f}%, Midpoint L2 accuracy for Fold {} = {:.2f}%\".format(i, midpoint_l1_accuracy * 100, i, midpoint_l2_accuracy * 100))\n",
    "\n",
    "plt.plot(k_values, midpoint_l1_accuracies, label='L1 distance')\n",
    "plt.plot(k_values, midpoint_l2_accuracies, label='L2 distance')\n",
    "plt.xlabel('k')\n",
    "plt.ylabel('Midpoint accuracy')\n",
    "plt.title('KNN performance on CIFAR-10')\n",
    "plt.legend()\n",
    "plt.show()\n",
    "    \n",
    "    \n",
    "\n",
    "\n",
    "\n",
    "\n",
    "\n",
    "\n",
    "\n",
    "\n",
    "\n",
    "\n",
    "\n"
   ]
  }
 ],
 "metadata": {
  "kernelspec": {
   "display_name": "assignment01",
   "language": "python",
   "name": "python3"
  },
  "language_info": {
   "codemirror_mode": {
    "name": "ipython",
    "version": 3
   },
   "file_extension": ".py",
   "mimetype": "text/x-python",
   "name": "python",
   "nbconvert_exporter": "python",
   "pygments_lexer": "ipython3",
   "version": "3.7.16 (default, Jan 17 2023, 16:06:28) [MSC v.1916 64 bit (AMD64)]"
  },
  "orig_nbformat": 4,
  "vscode": {
   "interpreter": {
    "hash": "0dd456089abab1a7281dbe4b9c97e07bbf3169737576815c5bd29aa6615d20a5"
   }
  }
 },
 "nbformat": 4,
 "nbformat_minor": 2
}
