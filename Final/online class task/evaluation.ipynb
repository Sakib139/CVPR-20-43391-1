{
  "cells": [
    {
      "cell_type": "code",
      "source": [
        "import tensorflow as tf\n",
        "from tensorflow import keras\n",
        "from tensorflow.keras import layers\n",
        "from tensorflow.keras.datasets import mnist\n",
        "\n",
        "import os\n",
        "import random\n",
        "import numpy as np\n",
        "import matplotlib.pyplot as plt\n",
        "\n",
        "os.environ['TFF_CPP_MIN_LOG_LEVEL'] = '2'\n",
        "\n",
        "%matplotlib inline"
      ],
      "metadata": {
        "id": "rslVEUPVkiqF"
      },
      "execution_count": 4,
      "outputs": []
    },
    {
      "cell_type": "code",
      "source": [
        "(x_train, y_train), (x_test, y_test) = keras.datasets.mnist.load_data()       #loading dataset\n"
      ],
      "metadata": {
        "id": "pWWGunf7kmbU"
      },
      "execution_count": 5,
      "outputs": []
    },
    {
      "cell_type": "code",
      "source": [
        "x_train = x_train.astype(\"float32\") / 255.0                                   #data preprocessing\n",
        "x_test = x_test.astype(\"float32\") / 255.0\n",
        "\n",
        "x_train = x_train.reshape(-1, 28, 28, 1)\n",
        "x_test = x_test.reshape(-1, 28, 28, 1)\n"
      ],
      "metadata": {
        "id": "vkMOcXIBkrXz"
      },
      "execution_count": 6,
      "outputs": []
    },
    {
      "cell_type": "code",
      "source": [
        "#defining model\n",
        "model = keras.Sequential(                                                     \n",
        "    [\n",
        "        layers.Conv2D(32, kernel_size=(3, 3), activation=\"relu\", input_shape=(28, 28, 1)),\n",
        "        layers.MaxPooling2D(pool_size=(2, 2)),\n",
        "        layers.Flatten(),\n",
        "        layers.Dense(10, activation=\"softmax\"),\n",
        "    ]\n",
        ")\n"
      ],
      "metadata": {
        "id": "TDi2h4v1kuM1"
      },
      "execution_count": 7,
      "outputs": []
    },
    {
      "cell_type": "code",
      "source": [
        "#for SGD\n",
        "model.compile(loss=\"sparse_categorical_crossentropy\", optimizer=\"sgd\", metrics=[\"accuracy\"])\n",
        "sgd_history = model.fit(x_train, y_train, batch_size=32, epochs=10, validation_split=0.3)\n",
        "\n",
        "#for ADAM\n",
        "model.compile(loss=\"sparse_categorical_crossentropy\", optimizer=\"adam\", metrics=[\"accuracy\"])\n",
        "adam_history = model.fit(x_train, y_train, batch_size=32, epochs=10, validation_split=0.3)\n",
        "\n",
        "#for RMSProp\n",
        "model.compile(loss=\"sparse_categorical_crossentropy\", optimizer=\"rmsprop\", metrics=[\"accuracy\"])\n",
        "rmsprop_history = model.fit(x_train, y_train, batch_size=32, epochs=10, validation_split=0.3)"
      ],
      "metadata": {
        "colab": {
          "base_uri": "https://localhost:8080/"
        },
        "id": "WCp04zFipAEQ",
        "outputId": "6778d148-7a71-43f9-f9d2-5c3faa408a90"
      },
      "execution_count": 10,
      "outputs": [
        {
          "output_type": "stream",
          "name": "stdout",
          "text": [
            "Epoch 1/10\n",
            "1313/1313 [==============================] - 22s 16ms/step - loss: 0.0024 - accuracy: 0.9995 - val_loss: 0.0934 - val_accuracy: 0.9818\n",
            "Epoch 2/10\n",
            "1313/1313 [==============================] - 23s 18ms/step - loss: 0.0022 - accuracy: 0.9995 - val_loss: 0.0934 - val_accuracy: 0.9819\n",
            "Epoch 3/10\n",
            "1313/1313 [==============================] - 23s 17ms/step - loss: 0.0021 - accuracy: 0.9996 - val_loss: 0.0932 - val_accuracy: 0.9818\n",
            "Epoch 4/10\n",
            "1313/1313 [==============================] - 23s 17ms/step - loss: 0.0020 - accuracy: 0.9996 - val_loss: 0.0933 - val_accuracy: 0.9819\n",
            "Epoch 5/10\n",
            "1313/1313 [==============================] - 23s 17ms/step - loss: 0.0019 - accuracy: 0.9996 - val_loss: 0.0932 - val_accuracy: 0.9821\n",
            "Epoch 6/10\n",
            "1313/1313 [==============================] - 23s 17ms/step - loss: 0.0018 - accuracy: 0.9996 - val_loss: 0.0934 - val_accuracy: 0.9818\n",
            "Epoch 7/10\n",
            "1313/1313 [==============================] - 23s 17ms/step - loss: 0.0018 - accuracy: 0.9996 - val_loss: 0.0938 - val_accuracy: 0.9818\n",
            "Epoch 8/10\n",
            "1313/1313 [==============================] - 20s 15ms/step - loss: 0.0017 - accuracy: 0.9997 - val_loss: 0.0936 - val_accuracy: 0.9820\n",
            "Epoch 9/10\n",
            "1313/1313 [==============================] - 22s 17ms/step - loss: 0.0017 - accuracy: 0.9997 - val_loss: 0.0937 - val_accuracy: 0.9818\n",
            "Epoch 10/10\n",
            "1313/1313 [==============================] - 20s 15ms/step - loss: 0.0016 - accuracy: 0.9997 - val_loss: 0.0936 - val_accuracy: 0.9819\n",
            "Epoch 1/10\n",
            "1313/1313 [==============================] - 23s 18ms/step - loss: 0.0095 - accuracy: 0.9969 - val_loss: 0.0955 - val_accuracy: 0.9806\n",
            "Epoch 2/10\n",
            "1313/1313 [==============================] - 22s 17ms/step - loss: 0.0060 - accuracy: 0.9982 - val_loss: 0.1158 - val_accuracy: 0.9783\n",
            "Epoch 3/10\n",
            "1313/1313 [==============================] - 22s 17ms/step - loss: 0.0061 - accuracy: 0.9982 - val_loss: 0.1211 - val_accuracy: 0.9777\n",
            "Epoch 4/10\n",
            "1313/1313 [==============================] - 23s 18ms/step - loss: 0.0046 - accuracy: 0.9988 - val_loss: 0.1043 - val_accuracy: 0.9793\n",
            "Epoch 5/10\n",
            "1313/1313 [==============================] - 20s 15ms/step - loss: 0.0055 - accuracy: 0.9984 - val_loss: 0.1114 - val_accuracy: 0.9802\n",
            "Epoch 6/10\n",
            "1313/1313 [==============================] - 23s 18ms/step - loss: 0.0055 - accuracy: 0.9981 - val_loss: 0.1110 - val_accuracy: 0.9803\n",
            "Epoch 7/10\n",
            "1313/1313 [==============================] - 21s 16ms/step - loss: 0.0045 - accuracy: 0.9987 - val_loss: 0.1069 - val_accuracy: 0.9804\n",
            "Epoch 8/10\n",
            "1313/1313 [==============================] - 21s 16ms/step - loss: 0.0031 - accuracy: 0.9991 - val_loss: 0.1060 - val_accuracy: 0.9808\n",
            "Epoch 9/10\n",
            "1313/1313 [==============================] - 22s 17ms/step - loss: 0.0037 - accuracy: 0.9988 - val_loss: 0.1120 - val_accuracy: 0.9795\n",
            "Epoch 10/10\n",
            "1313/1313 [==============================] - 22s 17ms/step - loss: 0.0041 - accuracy: 0.9985 - val_loss: 0.1129 - val_accuracy: 0.9805\n",
            "Epoch 1/10\n",
            "1313/1313 [==============================] - 23s 17ms/step - loss: 9.4629e-04 - accuracy: 0.9998 - val_loss: 0.1107 - val_accuracy: 0.9821\n",
            "Epoch 2/10\n",
            "1313/1313 [==============================] - 22s 17ms/step - loss: 3.6654e-04 - accuracy: 1.0000 - val_loss: 0.1143 - val_accuracy: 0.9822\n",
            "Epoch 3/10\n",
            "1313/1313 [==============================] - 21s 16ms/step - loss: 2.5245e-04 - accuracy: 1.0000 - val_loss: 0.1175 - val_accuracy: 0.9826\n",
            "Epoch 4/10\n",
            "1313/1313 [==============================] - 23s 18ms/step - loss: 1.9310e-04 - accuracy: 1.0000 - val_loss: 0.1205 - val_accuracy: 0.9818\n",
            "Epoch 5/10\n",
            "1313/1313 [==============================] - 23s 18ms/step - loss: 1.2878e-04 - accuracy: 1.0000 - val_loss: 0.1233 - val_accuracy: 0.9819\n",
            "Epoch 6/10\n",
            "1313/1313 [==============================] - 23s 17ms/step - loss: 1.1331e-04 - accuracy: 1.0000 - val_loss: 0.1253 - val_accuracy: 0.9824\n",
            "Epoch 7/10\n",
            "1313/1313 [==============================] - 21s 16ms/step - loss: 8.7197e-05 - accuracy: 1.0000 - val_loss: 0.1271 - val_accuracy: 0.9821\n",
            "Epoch 8/10\n",
            "1313/1313 [==============================] - 23s 17ms/step - loss: 7.5771e-05 - accuracy: 1.0000 - val_loss: 0.1279 - val_accuracy: 0.9826\n",
            "Epoch 9/10\n",
            "1313/1313 [==============================] - 23s 17ms/step - loss: 6.1532e-05 - accuracy: 1.0000 - val_loss: 0.1315 - val_accuracy: 0.9818\n",
            "Epoch 10/10\n",
            "1313/1313 [==============================] - 23s 17ms/step - loss: 5.5450e-05 - accuracy: 1.0000 - val_loss: 0.1321 - val_accuracy: 0.9820\n"
          ]
        }
      ]
    },
    {
      "cell_type": "code",
      "source": [
        "from google.colab import drive\n",
        "drive.mount('/content/drive')"
      ],
      "metadata": {
        "id": "f_B2buojs6CF"
      },
      "execution_count": null,
      "outputs": []
    }
  ],
  "metadata": {
    "colab": {
      "name": "Welcome To Colaboratory",
      "provenance": []
    },
    "kernelspec": {
      "display_name": "Python 3",
      "name": "python3"
    }
  },
  "nbformat": 4,
  "nbformat_minor": 0
}